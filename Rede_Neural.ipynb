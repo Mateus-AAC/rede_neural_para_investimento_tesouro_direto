{
  "nbformat": 4,
  "nbformat_minor": 0,
  "metadata": {
    "colab": {
      "provenance": [],
      "mount_file_id": "17sO1sGtj8qBGh5fgnv2rjktnaBwrmXkG",
      "authorship_tag": "ABX9TyM1XceUY7KMNRYtQCRkZjTc"
    },
    "kernelspec": {
      "name": "python3",
      "display_name": "Python 3"
    },
    "language_info": {
      "name": "python"
    }
  },
  "cells": [
    {
      "cell_type": "markdown",
      "source": [
        "# Rede Neural 🧠"
      ],
      "metadata": {
        "id": "Ql825XXZNhj-"
      }
    },
    {
      "cell_type": "markdown",
      "source": [
        "Import das bibliotecas necessárias para projeto"
      ],
      "metadata": {
        "id": "j8R4tOLke9z3"
      }
    },
    {
      "cell_type": "code",
      "source": [
        "import pandas as pd\n",
        "import numpy as np\n",
        "import tensorflow as tf\n",
        "from tensorflow import keras\n",
        "from sklearn.model_selection import train_test_split\n",
        "from sklearn.preprocessing import StandardScaler"
      ],
      "metadata": {
        "id": "sl5mvkSRe6Z9"
      },
      "execution_count": null,
      "outputs": []
    },
    {
      "cell_type": "markdown",
      "source": [
        "load_data(filepath): Lê um arquivo excel com os dados."
      ],
      "metadata": {
        "id": "s3rkNoTJebNq"
      }
    },
    {
      "cell_type": "code",
      "source": [
        "def load_data(filepath):\n",
        "    data = pd.read_excel(filepath, engine='openpyxl')\n",
        "\n",
        "    return data"
      ],
      "metadata": {
        "id": "I0_rKWAieeDt"
      },
      "execution_count": null,
      "outputs": []
    },
    {
      "cell_type": "markdown",
      "source": [
        "prepare_data(data): Prepara os dados para o treinamento do modelo."
      ],
      "metadata": {
        "id": "U-C5VD8jemdt"
      }
    },
    {
      "cell_type": "code",
      "source": [
        "def prepare_data(data):\n",
        "    X = data.drop([\"IPCA\", \"Selic\", \"Prefixado\"], axis=1).values\n",
        "    y = data[[\"IPCA\", \"Selic\", \"Prefixado\"]].values\n",
        "\n",
        "    X = X.reshape(-1, 1)\n",
        "    scaler = StandardScaler().fit(X)\n",
        "    X = scaler.transform(X)\n",
        "    X_train, X_test, y_train, y_test = train_test_split(X, y, test_size=0.2, random_state=42)\n",
        "\n",
        "    return X_train, X_test, y_train, y_test, scaler"
      ],
      "metadata": {
        "id": "IqkWf1l6eoL1"
      },
      "execution_count": null,
      "outputs": []
    },
    {
      "cell_type": "markdown",
      "source": [
        "create_model(input_shape): Cria o modelo de rede neural."
      ],
      "metadata": {
        "id": "iybZ0TG6fCI1"
      }
    },
    {
      "cell_type": "code",
      "source": [
        "def create_model(input_shape):\n",
        "    model = keras.models.Sequential([keras.layers.Dense(10, activation=\"relu\", input_shape=input_shape),keras.layers.Dense(3)])\n",
        "    model.compile(loss=\"mse\", optimizer=\"sgd\", metrics=[\"mae\"])\n",
        "\n",
        "    return model"
      ],
      "metadata": {
        "id": "d3zHuhYIfHUG"
      },
      "execution_count": null,
      "outputs": []
    },
    {
      "cell_type": "markdown",
      "source": [
        "train_model(model, X_train, y_train, epochs=100, validation_data=None): Treina o modelo com os dados de treinamento, usando a função de perda mse e o otimizador sgd."
      ],
      "metadata": {
        "id": "6UG8BKkbfT3t"
      }
    },
    {
      "cell_type": "code",
      "source": [
        "def train_model(model, X_train, y_train, epochs=100, validation_data=None):\n",
        "    history = model.fit(X_train, y_train, epochs=epochs, validation_data=validation_data)\n",
        "\n",
        "    return history"
      ],
      "metadata": {
        "id": "TRW4HCIofV5v"
      },
      "execution_count": null,
      "outputs": []
    },
    {
      "cell_type": "markdown",
      "source": [
        "predict_allocation(model, scaler, investimento, X_new): Faz a predição de alocação de investimento para um dado investimento e para um conjunto de dados de entrada X_new."
      ],
      "metadata": {
        "id": "awzgqmJafeoV"
      }
    },
    {
      "cell_type": "code",
      "source": [
        "def predict_allocation(model, scaler, investimento, X_new):\n",
        "    X_new_scaled = scaler.transform(X_new)\n",
        "    y_pred = model.predict(X_new_scaled)\n",
        "    allocation = investimento * y_pred[0] / y_pred[0].sum()\n",
        "\n",
        "    return allocation"
      ],
      "metadata": {
        "id": "8JlF3pHofjSl"
      },
      "execution_count": null,
      "outputs": []
    },
    {
      "cell_type": "markdown",
      "source": [
        "main(): Função principal que chama as outras funções na ordem correta e imprime os resultados da alocação de investimento."
      ],
      "metadata": {
        "id": "laWSWHMBfl6_"
      }
    },
    {
      "cell_type": "code",
      "source": [
        "def main():\n",
        "    filepath = \"/content/drive/MyDrive/Colab Notebooks/Dados/dados_tesouro_analise.xlsx\"\n",
        "    data = load_data(filepath)\n",
        "\n",
        "\n",
        "    X_train, X_test, y_train, y_test, scaler = prepare_data(data)\n",
        "    model = create_model(input_shape=X_train.shape[1:])\n",
        "    history = train_model(model, X_train, y_train, epochs=100, validation_data=(X_test, y_test))\n",
        "\n",
        "\n",
        "    investment = 10000\n",
        "\n",
        "    X_new = np.array([[4.5], [2.25], [5.2]])\n",
        "    allocations = predict_allocation(model, scaler, investment, X_new)\n",
        "\n",
        "\n",
        "    print(\"IPCA = R${:,.2f}\".format(allocations[0]))\n",
        "    print(\"Selic = R${:,.2f}\".format(allocations[1]))\n",
        "    print(\"Prefixado = R${:,.2f}\".format(allocations[2]))\n",
        "\n",
        "\n",
        "if __name__ == \"__main__\":\n",
        "    main()"
      ],
      "metadata": {
        "id": "rjlPXmhifoRU"
      },
      "execution_count": null,
      "outputs": []
    }
  ]
}